{
 "cells": [
  {
   "cell_type": "code",
   "execution_count": 1,
   "metadata": {},
   "outputs": [],
   "source": [
    "import pandas as pd\n",
    "import numpy as np\n",
    "import matplotlib.pyplot as plt"
   ]
  },
  {
   "cell_type": "code",
   "execution_count": 2,
   "metadata": {},
   "outputs": [
    {
     "data": {
      "text/html": [
       "<div>\n",
       "<style scoped>\n",
       "    .dataframe tbody tr th:only-of-type {\n",
       "        vertical-align: middle;\n",
       "    }\n",
       "\n",
       "    .dataframe tbody tr th {\n",
       "        vertical-align: top;\n",
       "    }\n",
       "\n",
       "    .dataframe thead th {\n",
       "        text-align: right;\n",
       "    }\n",
       "</style>\n",
       "<table border=\"1\" class=\"dataframe\">\n",
       "  <thead>\n",
       "    <tr style=\"text-align: right;\">\n",
       "      <th></th>\n",
       "      <th>Unnamed: 0</th>\n",
       "      <th>V1</th>\n",
       "      <th>V2</th>\n",
       "      <th>V3</th>\n",
       "      <th>V4</th>\n",
       "      <th>V5</th>\n",
       "      <th>V6</th>\n",
       "      <th>V7</th>\n",
       "      <th>V8</th>\n",
       "      <th>V9</th>\n",
       "      <th>...</th>\n",
       "      <th>V21</th>\n",
       "      <th>V22</th>\n",
       "      <th>V23</th>\n",
       "      <th>V24</th>\n",
       "      <th>V25</th>\n",
       "      <th>V26</th>\n",
       "      <th>V27</th>\n",
       "      <th>V28</th>\n",
       "      <th>Amount</th>\n",
       "      <th>Class</th>\n",
       "    </tr>\n",
       "  </thead>\n",
       "  <tbody>\n",
       "    <tr>\n",
       "      <th>0</th>\n",
       "      <td>258647</td>\n",
       "      <td>1.725265</td>\n",
       "      <td>-1.337256</td>\n",
       "      <td>-1.012687</td>\n",
       "      <td>-0.361656</td>\n",
       "      <td>-1.431611</td>\n",
       "      <td>-1.098681</td>\n",
       "      <td>-0.842274</td>\n",
       "      <td>-0.026594</td>\n",
       "      <td>-0.032409</td>\n",
       "      <td>...</td>\n",
       "      <td>0.414524</td>\n",
       "      <td>0.793434</td>\n",
       "      <td>0.028887</td>\n",
       "      <td>0.419421</td>\n",
       "      <td>-0.367529</td>\n",
       "      <td>-0.155634</td>\n",
       "      <td>-0.015768</td>\n",
       "      <td>0.010790</td>\n",
       "      <td>189.00</td>\n",
       "      <td>0</td>\n",
       "    </tr>\n",
       "    <tr>\n",
       "      <th>1</th>\n",
       "      <td>69263</td>\n",
       "      <td>0.683254</td>\n",
       "      <td>-1.681875</td>\n",
       "      <td>0.533349</td>\n",
       "      <td>-0.326064</td>\n",
       "      <td>-1.455603</td>\n",
       "      <td>0.101832</td>\n",
       "      <td>-0.520590</td>\n",
       "      <td>0.114036</td>\n",
       "      <td>-0.601760</td>\n",
       "      <td>...</td>\n",
       "      <td>0.116898</td>\n",
       "      <td>-0.304605</td>\n",
       "      <td>-0.125547</td>\n",
       "      <td>0.244848</td>\n",
       "      <td>0.069163</td>\n",
       "      <td>-0.460712</td>\n",
       "      <td>-0.017068</td>\n",
       "      <td>0.063542</td>\n",
       "      <td>315.17</td>\n",
       "      <td>0</td>\n",
       "    </tr>\n",
       "    <tr>\n",
       "      <th>2</th>\n",
       "      <td>96552</td>\n",
       "      <td>1.067973</td>\n",
       "      <td>-0.656667</td>\n",
       "      <td>1.029738</td>\n",
       "      <td>0.253899</td>\n",
       "      <td>-1.172715</td>\n",
       "      <td>0.073232</td>\n",
       "      <td>-0.745771</td>\n",
       "      <td>0.249803</td>\n",
       "      <td>1.383057</td>\n",
       "      <td>...</td>\n",
       "      <td>-0.189315</td>\n",
       "      <td>-0.426743</td>\n",
       "      <td>0.079539</td>\n",
       "      <td>0.129692</td>\n",
       "      <td>0.002778</td>\n",
       "      <td>0.970498</td>\n",
       "      <td>-0.035056</td>\n",
       "      <td>0.017313</td>\n",
       "      <td>59.98</td>\n",
       "      <td>0</td>\n",
       "    </tr>\n",
       "    <tr>\n",
       "      <th>3</th>\n",
       "      <td>281898</td>\n",
       "      <td>0.119513</td>\n",
       "      <td>0.729275</td>\n",
       "      <td>-1.678879</td>\n",
       "      <td>-1.551408</td>\n",
       "      <td>3.128914</td>\n",
       "      <td>3.210632</td>\n",
       "      <td>0.356276</td>\n",
       "      <td>0.920374</td>\n",
       "      <td>-0.160589</td>\n",
       "      <td>...</td>\n",
       "      <td>-0.335825</td>\n",
       "      <td>-0.906171</td>\n",
       "      <td>0.108350</td>\n",
       "      <td>0.593062</td>\n",
       "      <td>-0.424303</td>\n",
       "      <td>0.164201</td>\n",
       "      <td>0.245881</td>\n",
       "      <td>0.071029</td>\n",
       "      <td>0.89</td>\n",
       "      <td>0</td>\n",
       "    </tr>\n",
       "    <tr>\n",
       "      <th>4</th>\n",
       "      <td>86917</td>\n",
       "      <td>1.271253</td>\n",
       "      <td>0.275694</td>\n",
       "      <td>0.159568</td>\n",
       "      <td>1.003096</td>\n",
       "      <td>-0.128535</td>\n",
       "      <td>-0.608730</td>\n",
       "      <td>0.088777</td>\n",
       "      <td>-0.145336</td>\n",
       "      <td>0.156047</td>\n",
       "      <td>...</td>\n",
       "      <td>0.031958</td>\n",
       "      <td>0.123503</td>\n",
       "      <td>-0.174528</td>\n",
       "      <td>-0.147535</td>\n",
       "      <td>0.735909</td>\n",
       "      <td>-0.262270</td>\n",
       "      <td>0.015577</td>\n",
       "      <td>0.015955</td>\n",
       "      <td>6.53</td>\n",
       "      <td>0</td>\n",
       "    </tr>\n",
       "  </tbody>\n",
       "</table>\n",
       "<p>5 rows × 31 columns</p>\n",
       "</div>"
      ],
      "text/plain": [
       "   Unnamed: 0        V1        V2        V3        V4        V5        V6  \\\n",
       "0      258647  1.725265 -1.337256 -1.012687 -0.361656 -1.431611 -1.098681   \n",
       "1       69263  0.683254 -1.681875  0.533349 -0.326064 -1.455603  0.101832   \n",
       "2       96552  1.067973 -0.656667  1.029738  0.253899 -1.172715  0.073232   \n",
       "3      281898  0.119513  0.729275 -1.678879 -1.551408  3.128914  3.210632   \n",
       "4       86917  1.271253  0.275694  0.159568  1.003096 -0.128535 -0.608730   \n",
       "\n",
       "         V7        V8        V9  ...       V21       V22       V23       V24  \\\n",
       "0 -0.842274 -0.026594 -0.032409  ...  0.414524  0.793434  0.028887  0.419421   \n",
       "1 -0.520590  0.114036 -0.601760  ...  0.116898 -0.304605 -0.125547  0.244848   \n",
       "2 -0.745771  0.249803  1.383057  ... -0.189315 -0.426743  0.079539  0.129692   \n",
       "3  0.356276  0.920374 -0.160589  ... -0.335825 -0.906171  0.108350  0.593062   \n",
       "4  0.088777 -0.145336  0.156047  ...  0.031958  0.123503 -0.174528 -0.147535   \n",
       "\n",
       "        V25       V26       V27       V28  Amount  Class  \n",
       "0 -0.367529 -0.155634 -0.015768  0.010790  189.00      0  \n",
       "1  0.069163 -0.460712 -0.017068  0.063542  315.17      0  \n",
       "2  0.002778  0.970498 -0.035056  0.017313   59.98      0  \n",
       "3 -0.424303  0.164201  0.245881  0.071029    0.89      0  \n",
       "4  0.735909 -0.262270  0.015577  0.015955    6.53      0  \n",
       "\n",
       "[5 rows x 31 columns]"
      ]
     },
     "execution_count": 2,
     "metadata": {},
     "output_type": "execute_result"
    }
   ],
   "source": [
    "data = pd.read_csv('creditcard_sampledata_3.csv')\n",
    "data.head()"
   ]
  },
  {
   "cell_type": "code",
   "execution_count": 3,
   "metadata": {},
   "outputs": [
    {
     "name": "stdout",
     "output_type": "stream",
     "text": [
      "<class 'pandas.core.frame.DataFrame'>\n",
      "RangeIndex: 5050 entries, 0 to 5049\n",
      "Data columns (total 31 columns):\n",
      "Unnamed: 0    5050 non-null int64\n",
      "V1            5050 non-null float64\n",
      "V2            5050 non-null float64\n",
      "V3            5050 non-null float64\n",
      "V4            5050 non-null float64\n",
      "V5            5050 non-null float64\n",
      "V6            5050 non-null float64\n",
      "V7            5050 non-null float64\n",
      "V8            5050 non-null float64\n",
      "V9            5050 non-null float64\n",
      "V10           5050 non-null float64\n",
      "V11           5050 non-null float64\n",
      "V12           5050 non-null float64\n",
      "V13           5050 non-null float64\n",
      "V14           5050 non-null float64\n",
      "V15           5050 non-null float64\n",
      "V16           5050 non-null float64\n",
      "V17           5050 non-null float64\n",
      "V18           5050 non-null float64\n",
      "V19           5050 non-null float64\n",
      "V20           5050 non-null float64\n",
      "V21           5050 non-null float64\n",
      "V22           5050 non-null float64\n",
      "V23           5050 non-null float64\n",
      "V24           5050 non-null float64\n",
      "V25           5050 non-null float64\n",
      "V26           5050 non-null float64\n",
      "V27           5050 non-null float64\n",
      "V28           5050 non-null float64\n",
      "Amount        5050 non-null float64\n",
      "Class         5050 non-null int64\n",
      "dtypes: float64(29), int64(2)\n",
      "memory usage: 1.2 MB\n"
     ]
    }
   ],
   "source": [
    "data.info()"
   ]
  },
  {
   "cell_type": "code",
   "execution_count": 16,
   "metadata": {},
   "outputs": [
    {
     "data": {
      "text/plain": [
       "0    5000\n",
       "1      50\n",
       "Name: Class, dtype: int64"
      ]
     },
     "execution_count": 16,
     "metadata": {},
     "output_type": "execute_result"
    }
   ],
   "source": [
    "n_fraud = data.Class.value_counts()\n",
    "n_fraud"
   ]
  },
  {
   "cell_type": "code",
   "execution_count": 19,
   "metadata": {},
   "outputs": [
    {
     "data": {
      "text/plain": [
       "0.9900990099009901"
      ]
     },
     "execution_count": 19,
     "metadata": {},
     "output_type": "execute_result"
    }
   ],
   "source": [
    "natural_accuracy = n_fraud.iloc[0]/data.Class.count()\n",
    "natural_accuracy"
   ]
  },
  {
   "cell_type": "code",
   "execution_count": 6,
   "metadata": {},
   "outputs": [],
   "source": [
    "X = data.iloc[:,1:-1].values\n",
    "y = data.iloc[:,-1].values"
   ]
  },
  {
   "cell_type": "code",
   "execution_count": 15,
   "metadata": {},
   "outputs": [
    {
     "data": {
      "text/plain": [
       "5050"
      ]
     },
     "execution_count": 15,
     "metadata": {},
     "output_type": "execute_result"
    }
   ],
   "source": [
    "total = len(y)\n",
    "fraud = [count for i in ]"
   ]
  },
  {
   "cell_type": "code",
   "execution_count": 7,
   "metadata": {},
   "outputs": [],
   "source": [
    "from imblearn.over_sampling import SMOTE"
   ]
  },
  {
   "cell_type": "code",
   "execution_count": 8,
   "metadata": {},
   "outputs": [],
   "source": [
    "method = SMOTE(kind='regular')"
   ]
  },
  {
   "cell_type": "code",
   "execution_count": 9,
   "metadata": {},
   "outputs": [
    {
     "data": {
      "text/plain": [
       "(10000, 29)"
      ]
     },
     "execution_count": 9,
     "metadata": {},
     "output_type": "execute_result"
    }
   ],
   "source": [
    "X_resampled, y_resampled = method.fit_sample(X, y)\n",
    "X_resampled.shape"
   ]
  },
  {
   "cell_type": "code",
   "execution_count": 10,
   "metadata": {},
   "outputs": [],
   "source": [
    "from sklearn.model_selection import train_test_split\n",
    "X_train, X_test, y_train, y_test = train_test_split(X_resampled, y_resampled, test_size=0.2)"
   ]
  },
  {
   "cell_type": "code",
   "execution_count": 11,
   "metadata": {},
   "outputs": [
    {
     "data": {
      "text/plain": [
       "LogisticRegression(C=1.0, class_weight=None, dual=False, fit_intercept=True,\n",
       "          intercept_scaling=1, max_iter=100, multi_class='ovr', n_jobs=1,\n",
       "          penalty='l2', random_state=None, solver='liblinear', tol=0.0001,\n",
       "          verbose=0, warm_start=False)"
      ]
     },
     "execution_count": 11,
     "metadata": {},
     "output_type": "execute_result"
    }
   ],
   "source": [
    "from sklearn.linear_model import LogisticRegression\n",
    "classifier = LogisticRegression()\n",
    "classifier.fit(X_train, y_train)"
   ]
  },
  {
   "cell_type": "code",
   "execution_count": 35,
   "metadata": {},
   "outputs": [
    {
     "name": "stdout",
     "output_type": "stream",
     "text": [
      "confusion matrix:\n",
      " [[ 983    4]\n",
      " [   3 1010]] \n",
      "\n",
      " classification report:\n",
      "              precision    recall  f1-score   support\n",
      "\n",
      "          0       1.00      1.00      1.00       987\n",
      "          1       1.00      1.00      1.00      1013\n",
      "\n",
      "avg / total       1.00      1.00      1.00      2000\n",
      " \n",
      "\n",
      " Accucary:\n",
      " 0.9965\n"
     ]
    }
   ],
   "source": [
    "y_pred = classifier.predict(X_test)\n",
    "from sklearn.metrics import confusion_matrix, classification_report, accuracy_score\n",
    "cm = confusion_matrix(y_test, y_pred)\n",
    "cr = classification_report(y_test, y_pred)\n",
    "acc = accuracy_score(y_test, y_pred)\n",
    "print('confusion matrix:\\n',cm,'\\n\\n','classification report:\\n',cr,'\\n\\n','Accucary:\\n',acc)"
   ]
  },
  {
   "cell_type": "code",
   "execution_count": null,
   "metadata": {},
   "outputs": [],
   "source": []
  }
 ],
 "metadata": {
  "kernelspec": {
   "display_name": "Python 3",
   "language": "python",
   "name": "python3"
  },
  "language_info": {
   "codemirror_mode": {
    "name": "ipython",
    "version": 3
   },
   "file_extension": ".py",
   "mimetype": "text/x-python",
   "name": "python",
   "nbconvert_exporter": "python",
   "pygments_lexer": "ipython3",
   "version": "3.7.3"
  }
 },
 "nbformat": 4,
 "nbformat_minor": 2
}
